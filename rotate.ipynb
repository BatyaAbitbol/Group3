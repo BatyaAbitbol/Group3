{
 "cells": [
  {
   "cell_type": "code",
   "execution_count": 12,
   "id": "2252a8df",
   "metadata": {},
   "outputs": [],
   "source": [
    "from PIL import Image, ImageFilter\n",
    "import csv\n",
    "import cv2\n",
    "import os\n",
    "import numpy as np\n",
    "import matplotlib.pyplot as plt\n",
    "%matplotlib inline"
   ]
  },
  {
   "cell_type": "code",
   "execution_count": 13,
   "id": "f2ee7485",
   "metadata": {},
   "outputs": [],
   "source": [
    "def down_sampling_and_save_as_csv(load_path, save_path, label):\n",
    "    image=cv2.imread(load_path,cv2.IMREAD_COLOR)\n",
    "    resized_image = cv2.resize(image, (32, 32), interpolation=cv2.INTER_LANCZOS4)\n",
    "    new_size = resized_image.size\n",
    "    print(\"New size:\", new_size)\n",
    "    pixels = np.array(resized_image).reshape(3,32,32).transpose(0,1,2).flatten()\n",
    "    with open(save_path, 'w', newline='') as csvfile:\n",
    "        writer = csv.writer(csvfile)\n",
    "        writer.writerow([f\"pixel_{i}\" for i in range(pixels.shape[0])] + ['label'])\n",
    "        writer.writerow(list(pixels) + [label])"
   ]
  },
  {
   "cell_type": "code",
   "execution_count": 14,
   "id": "7fd72d37",
   "metadata": {},
   "outputs": [
    {
     "name": "stdout",
     "output_type": "stream",
     "text": [
      "New size: 3072\n"
     ]
    }
   ],
   "source": [
    "url_load='./pictures/before_sampling/pic_ship/ship3.png'\n",
    "url_save='./pictures/before_rotate/ship3.csv'\n",
    "down_sampling_and_save_as_csv(url_load,url_save,0)"
   ]
  },
  {
   "cell_type": "markdown",
   "id": "164c6192",
   "metadata": {},
   "source": [
    "### read  the csv and show the img"
   ]
  },
  {
   "cell_type": "code",
   "execution_count": 15,
   "id": "cbca8005",
   "metadata": {},
   "outputs": [
    {
     "name": "stdout",
     "output_type": "stream",
     "text": [
      "(32, 32, 3)\n"
     ]
    },
    {
     "data": {
      "image/png": "[encoded data removed]",
      "text/plain": [
       "<Figure size 432x288 with 1 Axes>"
      ]
     },
     "metadata": {
      "needs_background": "light"
     },
     "output_type": "display_data"
    }
   ],
   "source": [
    "import pandas as pd\n",
    "file='./pictures/before_rotate/ship3.csv'\n",
    "# Read the CSV file into a DataFrame\n",
    "df = pd.read_csv(file, usecols=lambda x: x != 'label')\n",
    "pic=np.array(df).reshape(32,32,3)\n",
    "plt.imshow(pic)\n",
    "print(pic.shape)\n"
   ]
  },
  {
   "cell_type": "markdown",
   "id": "b6a2f6d5",
   "metadata": {},
   "source": [
    "#### save the right demenetions to a new img"
   ]
  },
  {
   "cell_type": "code",
   "execution_count": 16,
   "id": "bdeb5b13",
   "metadata": {},
   "outputs": [
    {
     "name": "stdout",
     "output_type": "stream",
     "text": [
      "The operation was successfull?: True\n"
     ]
    }
   ],
   "source": [
    "status=cv2.imwrite('./pictures/before_rotate/ship3.jpg',pic)\n",
    "print(f'The operation was successfull?: {status}')"
   ]
  },
  {
   "cell_type": "code",
   "execution_count": 17,
   "id": "679e84b0",
   "metadata": {},
   "outputs": [
    {
     "name": "stdout",
     "output_type": "stream",
     "text": [
      "(32, 32, 3)\n"
     ]
    },
    {
     "data": {
      "image/png": "[encoded data removed]",
      "text/plain": [
       "<Figure size 72x72 with 1 Axes>"
      ]
     },
     "metadata": {
      "needs_background": "light"
     },
     "output_type": "display_data"
    }
   ],
   "source": [
    "fig, ax = plt.subplots(figsize=(1,1))\n",
    "ax.imshow(pic)\n",
    "print(pic.shape)"
   ]
  },
  {
   "cell_type": "markdown",
   "id": "1f2a50e4",
   "metadata": {},
   "source": [
    "# Rotating:\n",
    "* cv2.ROTATE_180\n",
    "* cv2.ROTATE_90_CLOCKWISE"
   ]
  },
  {
   "cell_type": "code",
   "execution_count": 19,
   "id": "6af727d8",
   "metadata": {},
   "outputs": [
    {
     "data": {
      "text/plain": [
       "True"
      ]
     },
     "execution_count": 19,
     "metadata": {},
     "output_type": "execute_result"
    }
   ],
   "source": [
    "input_image_path = './pictures/before_rotate/ship3.jpg'\n",
    "\n",
    "# Read the input image\n",
    "img = cv2.imread(input_image_path)\n",
    "img_cw_90 = cv2.rotate(img, cv2.ROTATE_90_CLOCKWISE)\n",
    "output_directory = './pictures/after_rotate'\n",
    "output_filename = os.path.join(output_directory, 'rotated_ship3.jpg')\n",
    "cv2.imwrite(output_filename, img_cw_90)"
   ]
  },
  {
   "cell_type": "code",
   "execution_count": 21,
   "id": "d26cc577",
   "metadata": {},
   "outputs": [
    {
     "name": "stdout",
     "output_type": "stream",
     "text": [
      "New size: 3072\n"
     ]
    }
   ],
   "source": [
    "url_load='./pictures/after_rotate/rotated_ship3.jpg'\n",
    "url_save='./pictures/after_rotate/ship3.csv'\n",
    "down_sampling_and_save_as_csv(url_load,url_save,0)"
   ]
  },
  {
   "cell_type": "markdown",
   "id": "f8802541",
   "metadata": {},
   "source": [
    "### rotate in 30 degres without taking care of pixels"
   ]
  },
  {
   "cell_type": "code",
   "execution_count": 23,
   "id": "fd6bbe47",
   "metadata": {},
   "outputs": [],
   "source": [
    "import cv2 \n",
    "\n",
    "from matplotlib import pyplot as plt \n",
    "\n",
    "image = cv2.imread('./pictures/before_sampling/pic_truck/truck1.png') \n",
    "\n",
    "rows,cols,channels= image.shape \n",
    "\n",
    "M = cv2.getRotationMatrix2D((cols/2,rows/2),-30,1) \n",
    "\n",
    "rotate_30 = cv2.warpAffine(image,M,(cols,rows)) \n"
   ]
  },
  {
   "cell_type": "code",
   "execution_count": 25,
   "id": "e6c5b6cc",
   "metadata": {},
   "outputs": [
    {
     "data": {
      "text/plain": [
       "True"
      ]
     },
     "execution_count": 25,
     "metadata": {},
     "output_type": "execute_result"
    }
   ],
   "source": [
    "output_directory = './pictures/after_rotate'\n",
    "output_filename = os.path.join(output_directory, 'rotated_truck3.jpg')\n",
    "cv2.imwrite(output_filename, rotate_30)"
   ]
  },
  {
   "cell_type": "markdown",
   "id": "7eddc835",
   "metadata": {},
   "source": [
    "### see the img "
   ]
  },
  {
   "cell_type": "code",
   "execution_count": 38,
   "id": "caaca3ce",
   "metadata": {},
   "outputs": [
    {
     "name": "stdout",
     "output_type": "stream",
     "text": [
      "New size: 3072\n"
     ]
    }
   ],
   "source": [
    "url_load='./pictures/after_rotate/rotated_truck3.jpg'\n",
    "url_save='./pictures/after_rotate/truck3.csv'\n",
    "down_sampling_and_save_as_csv(url_load,url_save,0)\n"
   ]
  },
  {
   "cell_type": "code",
   "execution_count": 39,
   "id": "8e1afebd",
   "metadata": {},
   "outputs": [
    {
     "name": "stdout",
     "output_type": "stream",
     "text": [
      "(32, 32, 3)\n"
     ]
    },
    {
     "data": {
      "image/png": "[encoded data removed]",
      "text/plain": [
       "<Figure size 432x288 with 1 Axes>"
      ]
     },
     "metadata": {
      "needs_background": "light"
     },
     "output_type": "display_data"
    }
   ],
   "source": [
    "import pandas as pd\n",
    "file='./pictures/after_rotate/truck3.csv'\n",
    "# Read the CSV file into a DataFrame\n",
    "df = pd.read_csv(file, usecols=lambda x: x != 'label')\n",
    "pic=np.array(df).reshape(32,32,3)\n",
    "plt.imshow(pic)\n",
    "print(pic.shape)"
   ]
  },
  {
   "cell_type": "code",
   "execution_count": 40,
   "id": "218927d1",
   "metadata": {},
   "outputs": [
    {
     "name": "stdout",
     "output_type": "stream",
     "text": [
      "(32, 32, 3)\n"
     ]
    },
    {
     "data": {
      "image/png": "[encoded data removed]",
      "text/plain": [
       "<Figure size 72x72 with 1 Axes>"
      ]
     },
     "metadata": {
      "needs_background": "light"
     },
     "output_type": "display_data"
    }
   ],
   "source": [
    "fig, ax = plt.subplots(figsize=(1,1))\n",
    "ax.imshow(pic)\n",
    "print(pic.shape)"
   ]
  },
  {
   "cell_type": "markdown",
   "id": "61c9c015",
   "metadata": {},
   "source": [
    "### rotate 30 degres taking care of pixels- Brachi's code "
   ]
  },
  {
   "cell_type": "code",
   "execution_count": 30,
   "id": "34ebf80d",
   "metadata": {},
   "outputs": [],
   "source": [
    "import cv2\n",
    "import math\n",
    "import numpy as np\n",
    "\n",
    "def rotate_image_with_padding(input_image, angle):\n",
    "    # Load the input image using OpenCV\n",
    "    image = cv2.imread(input_image)\n",
    "    print(\"image \", image.shape)\n",
    "    # Calculate the dimensions of the rotated image\n",
    "    height, width = image.shape[:2]\n",
    "    radians = math.radians(angle)\n",
    "    new_width = int(abs(width * math.cos(radians)) + abs(height * math.sin(radians)))\n",
    "    new_height = int(abs(width * math.sin(radians)) + abs(height * math.cos(radians)))\n",
    "\n",
    "    # Calculate the center of the original image\n",
    "    center_x = width // 2\n",
    "    center_y = height // 2\n",
    "\n",
    "    # Create an empty canvas with the dimensions of the rotated image\n",
    "    canvas = np.zeros((new_height, new_width, 3), dtype=np.uint8)\n",
    "\n",
    "    # Calculate the coordinates for the rotated image\n",
    "    x = (new_width - width) // 2\n",
    "    y = (new_height - height) // 2\n",
    "\n",
    "    # Paste the original image onto the canvas\n",
    "    canvas[y:y+height, x:x+width] = image\n",
    "\n",
    "    # Perform the rotation with padding\n",
    "    M = cv2.getRotationMatrix2D((new_width//2, new_height//2), angle, 1.0)\n",
    "    rotated_image = cv2.warpAffine(canvas, M, (new_width, new_height))\n",
    "\n",
    "    # Return the rotated image\n",
    "    return rotated_image\n"
   ]
  },
  {
   "cell_type": "code",
   "execution_count": 32,
   "id": "ce667b46",
   "metadata": {},
   "outputs": [
    {
     "name": "stdout",
     "output_type": "stream",
     "text": [
      "image  (707, 663, 3)\n",
      "(943, 927, 3)\n"
     ]
    },
    {
     "data": {
      "text/plain": [
       "True"
      ]
     },
     "execution_count": 32,
     "metadata": {},
     "output_type": "execute_result"
    }
   ],
   "source": [
    "\n",
    "# Example usage\n",
    "input_image = './pictures/before_sampling/pic_horse/horse1.png'\n",
    "angle = 30\n",
    "\n",
    "rotated_image = rotate_image_with_padding(input_image, angle)\n",
    "print(rotated_image.shape)\n",
    "output_directory = './pictures/after_rotate'\n",
    "output_filename = os.path.join(output_directory, 'rotated_horse1.jpg')\n",
    "cv2.imwrite(output_filename, rotated_image)\n"
   ]
  },
  {
   "cell_type": "code",
   "execution_count": 33,
   "id": "d0d2210c",
   "metadata": {},
   "outputs": [
    {
     "name": "stdout",
     "output_type": "stream",
     "text": [
      "New size: 3072\n"
     ]
    }
   ],
   "source": [
    "url_load='./pictures/after_rotate/rotated_horse1.jpg'\n",
    "url_save='./pictures/after_rotate/horse1.csv'\n",
    "down_sampling_and_save_as_csv(url_load,url_save,0)"
   ]
  },
  {
   "cell_type": "markdown",
   "id": "0ed51d4b",
   "metadata": {},
   "source": [
    "### the rotate function above enlarges the image- becuase of adding the padding+the full picture rotated, this is to ensure not to loss pixels and cut the picture, so thats why we need to call down-samlinf function"
   ]
  },
  {
   "cell_type": "code",
   "execution_count": 36,
   "id": "70797073",
   "metadata": {},
   "outputs": [
    {
     "name": "stdout",
     "output_type": "stream",
     "text": [
      "(32, 32, 3)\n"
     ]
    },
    {
     "data": {
      "image/png": "[encoded data removed]",
      "text/plain": [
       "<Figure size 432x288 with 1 Axes>"
      ]
     },
     "metadata": {
      "needs_background": "light"
     },
     "output_type": "display_data"
    }
   ],
   "source": [
    "import pandas as pd\n",
    "file='./pictures/after_rotate/horse1.csv'\n",
    "# Read the CSV file into a DataFrame\n",
    "df = pd.read_csv(file, usecols=lambda x: x != 'label')\n",
    "pic=np.array(df).reshape(32,32,3)\n",
    "plt.imshow(pic)\n",
    "print(pic.shape)"
   ]
  },
  {
   "cell_type": "code",
   "execution_count": 37,
   "id": "371a33d6",
   "metadata": {},
   "outputs": [
    {
     "name": "stdout",
     "output_type": "stream",
     "text": [
      "(32, 32, 3)\n"
     ]
    },
    {
     "data": {
      "image/png": "[encoded data removed]",
      "text/plain": [
       "<Figure size 72x72 with 1 Axes>"
      ]
     },
     "metadata": {
      "needs_background": "light"
     },
     "output_type": "display_data"
    }
   ],
   "source": [
    "fig, ax = plt.subplots(figsize=(1,1))\n",
    "ax.imshow(pic)\n",
    "print(pic.shape)"
   ]
  }
 ],
 "metadata": {
  "kernelspec": {
   "display_name": "Python 3 (ipykernel)",
   "language": "python",
   "name": "python3"
  },
  "language_info": {
   "codemirror_mode": {
    "name": "ipython",
    "version": 3
   },
   "file_extension": ".py",
   "mimetype": "text/x-python",
   "name": "python",
   "nbconvert_exporter": "python",
   "pygments_lexer": "ipython3",
   "version": "3.9.12"
  }
 },
 "nbformat": 4,
 "nbformat_minor": 5
}
