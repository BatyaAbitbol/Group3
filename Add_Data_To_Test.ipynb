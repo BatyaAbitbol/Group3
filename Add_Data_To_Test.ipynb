{
 "cells": [
  {
   "cell_type": "code",
   "execution_count": 1,
   "id": "de3eb010",
   "metadata": {},
   "outputs": [],
   "source": [
    "from PIL import Image, ImageFilter\n",
    "import csv\n",
    "import cv2\n",
    "import numpy as np\n",
    "import os\n",
    "import matplotlib.pyplot as plt\n",
    "%matplotlib inline"
   ]
  },
  {
   "cell_type": "code",
   "execution_count": 2,
   "id": "a57848a8",
   "metadata": {},
   "outputs": [],
   "source": [
    "def down_sampling(load_path):\n",
    "    image=cv2.imread(load_path,cv2.IMREAD_COLOR)\n",
    "    resized_image=cv2.resize(image,(32,32), interpolation=cv2.INTER_LANCZOS4)\n",
    "    return resized_image"
   ]
  },
  {
   "cell_type": "code",
   "execution_count": 3,
   "id": "69d0ff96",
   "metadata": {},
   "outputs": [],
   "source": [
    "def save_to_csv(save_path, label, resized_image):\n",
    "    pixels = np.array(resized_image).reshape(3, 32, 32).transpose(0, 1, 2).flatten()\n",
    "    # Check if the file exists, if not, create a new file with header\n",
    "    file_exists = os.path.isfile(save_path)\n",
    "    mode = 'a' if file_exists else 'w'\n",
    "\n",
    "    with open(save_path, mode, newline='') as csvfile:\n",
    "        writer = csv.writer(csvfile)\n",
    "        if not file_exists:\n",
    "            writer.writerow([f\"pixel_{i}\" for i in range(pixels.shape[0])] + ['label'])\n",
    "        writer.writerow(list(pixels) + [label])\n"
   ]
  },
  {
   "cell_type": "code",
   "execution_count": 4,
   "id": "ed019ebd",
   "metadata": {},
   "outputs": [],
   "source": [
    "def process_directory(parent_dir,save_file):\n",
    "    label_counter = 0\n",
    "\n",
    "    for sub_dir in os.listdir(parent_dir):\n",
    "        sub_dir_path = os.path.join(parent_dir, sub_dir)\n",
    "        if not os.path.isdir(sub_dir_path):\n",
    "            continue\n",
    "\n",
    "        # Assuming each directory contains images of the same label\n",
    "        image_label = str(label_counter)\n",
    "\n",
    "        for image_file in os.listdir(sub_dir_path):\n",
    "            image_path = os.path.join(sub_dir_path, image_file)\n",
    "\n",
    "            # Process the image and save to CSV\n",
    "            resized_image = down_sampling(image_path)\n",
    "            save_to_csv(save_file, image_label, resized_image)\n",
    "\n",
    "        label_counter += 1"
   ]
  },
  {
   "cell_type": "code",
   "execution_count": 5,
   "id": "0fc057f9",
   "metadata": {},
   "outputs": [],
   "source": [
    "parent_directory='./pictures/before_sampling'\n",
    "save_path='./pictures/after_sampling/data.csv'\n",
    "process_directory(parent_directory,save_path)"
   ]
  }
 ],
 "metadata": {
  "kernelspec": {
   "display_name": "Python 3 (ipykernel)",
   "language": "python",
   "name": "python3"
  },
  "language_info": {
   "codemirror_mode": {
    "name": "ipython",
    "version": 3
   },
   "file_extension": ".py",
   "mimetype": "text/x-python",
   "name": "python",
   "nbconvert_exporter": "python",
   "pygments_lexer": "ipython3",
   "version": "3.9.12"
  }
 },
 "nbformat": 4,
 "nbformat_minor": 5
}
