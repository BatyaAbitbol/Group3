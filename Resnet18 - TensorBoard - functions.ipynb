{
 "cells": [
  {
   "cell_type": "code",
   "execution_count": 1,
   "id": "1070aa69",
   "metadata": {},
   "outputs": [],
   "source": [
    "import pandas as pd\n",
    "import torch\n",
    "from torch.utils.data import Dataset, DataLoader\n",
    "from torchvision.transforms import transforms\n",
    "from torch.utils.data import Dataset, DataLoader"
   ]
  },
  {
   "cell_type": "markdown",
   "id": "d05d892f",
   "metadata": {},
   "source": [
    "### preproccessing the data"
   ]
  },
  {
   "cell_type": "code",
   "execution_count": 2,
   "id": "9523bfd2",
   "metadata": {},
   "outputs": [],
   "source": [
    "class CustomDataset(Dataset):\n",
    "    def __init__(self, data, labels):\n",
    "        self.data = data\n",
    "        self.labels = labels\n",
    "\n",
    "    def __len__(self):\n",
    "        return len(self.data)\n",
    "\n",
    "    def __getitem__(self, idx):\n",
    "        image = self.data[idx]\n",
    "        label = self.labels[idx]\n",
    "        return image, label"
   ]
  },
  {
   "cell_type": "code",
   "execution_count": null,
   "id": "44104d13",
   "metadata": {},
   "outputs": [],
   "source": [
    "def prepare_the_data(data:pd.DataFrame):\n",
    "    # Extract the pixel data and labels\n",
    "    pixel_columns = [col for col in df.columns if col.startswith('pixel')]\n",
    "    pixels = data[pixel_columns].values\n",
    "    labels = data['label'].values\n",
    "\n",
    "    # Reshape the pixel data to match the image dimensions (3, 32, 32)\n",
    "    pixels = pixels.reshape(-1, 3, 32, 32)\n",
    "\n",
    "    # Convert pixel data to float32 and normalize to the range [0, 1]\n",
    "    pixels = pixels.astype(np.float32) / 255.0\n",
    "\n",
    "    # Convert NumPy arrays to PyTorch tensors\n",
    "    pixel_tensors = torch.tensor(pixels)\n",
    "    label_tensors = torch.tensor(labels)\n",
    "    \n",
    "    #normalize\n",
    "    normalize_transform = transforms.Normalize(mean=[0.485, 0.456, 0.406], std=[0.229, 0.224, 0.225])\n",
    "    pixel_tensors = normalize_transform(pixel_tensors)\n",
    "    \n",
    "    # Create a CustomDataset instance\n",
    "    dataset = CustomDataset(pixel_tensors, label_tensors)\n",
    "\n",
    "    # Create a DataLoader\n",
    "    batch_size = 128\n",
    "    train_loader = DataLoader(dataset, batch_size=batch_size, shuffle=True)\n",
    "    \n",
    "    return train_loader"
   ]
  },
  {
   "cell_type": "markdown",
   "id": "92784f09",
   "metadata": {},
   "source": [
    "### Resnet18 model - Tensorboard"
   ]
  },
  {
   "cell_type": "code",
   "execution_count": null,
   "id": "5b011162",
   "metadata": {},
   "outputs": [],
   "source": [
    "import torchvision.models as models\n",
    "import torch.nn as nn\n",
    "from tensorboardX import SummaryWriter"
   ]
  },
  {
   "cell_type": "code",
   "execution_count": null,
   "id": "a0aec950",
   "metadata": {},
   "outputs": [],
   "source": [
    "def resnet18_model_with_tensorboard(num_epochs:int,train_loader):\n",
    "    # Define the ResNet18 model\n",
    "    model = models.resnet18(pretrained=False)\n",
    "    num_classes = 10  # Assuming you have 10 classes in your dataset\n",
    "    model.fc = nn.Linear(512, num_classes)  # Replace the fully connected layer for the new number of classes\n",
    "\n",
    "    # Define loss function and optimizer\n",
    "    criterion = nn.CrossEntropyLoss()\n",
    "    optimizer = torch.optim.SGD(model.parameters(), lr=0.001, momentum=0.9)\n",
    "\n",
    "    # Set up TensorBoard writer\n",
    "    writer = SummaryWriter('logs')\n",
    "    \n",
    "    #num_epochs = 10  # You can adjust this as needed\n",
    "\n",
    "    for epoch in range(num_epochs):\n",
    "        model.train()  # Set the model to training mode\n",
    "        total_loss = 0.0\n",
    "\n",
    "        for i, (images, labels) in enumerate(train_loader):\n",
    "            # Forward pass\n",
    "            outputs = model(images)\n",
    "            loss = criterion(outputs, labels)\n",
    "\n",
    "            # Backward and optimize\n",
    "            optimizer.zero_grad()\n",
    "            loss.backward()\n",
    "            optimizer.step()\n",
    "\n",
    "            total_loss += loss.item()\n",
    "\n",
    "        # Average training loss for the epoch\n",
    "        avg_loss = total_loss / len(train_loader)\n",
    "\n",
    "        # Write training loss to TensorBoard\n",
    "        writer.add_scalar('Loss/train', avg_loss, epoch)\n",
    "\n",
    "    # Close the TensorBoard writer\n",
    "    writer.close()"
   ]
  },
  {
   "cell_type": "code",
   "execution_count": null,
   "id": "dfb1b66b",
   "metadata": {},
   "outputs": [],
   "source": [
    "train_loader = prepare_the_data(data...)\n",
    "resnet18_model_with_tensorboard(30,train_loader)"
   ]
  },
  {
   "cell_type": "code",
   "execution_count": null,
   "id": "cb405f5e",
   "metadata": {},
   "outputs": [],
   "source": [
    "tensorboard --logdir=logs"
   ]
  }
 ],
 "metadata": {
  "kernelspec": {
   "display_name": "Python 3 (ipykernel)",
   "language": "python",
   "name": "python3"
  },
  "language_info": {
   "codemirror_mode": {
    "name": "ipython",
    "version": 3
   },
   "file_extension": ".py",
   "mimetype": "text/x-python",
   "name": "python",
   "nbconvert_exporter": "python",
   "pygments_lexer": "ipython3",
   "version": "3.10.9"
  }
 },
 "nbformat": 4,
 "nbformat_minor": 5
}
