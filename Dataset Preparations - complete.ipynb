{
 "cells": [
  {
   "cell_type": "code",
   "execution_count": 11,
   "id": "13a65bfc",
   "metadata": {},
   "outputs": [],
   "source": [
    "import requests\n",
    "import os\n",
    "import numpy as np\n",
    "import pandas as pd\n",
    "import pickle\n",
    "import logging\n",
    "import urllib3\n",
    "import matplotlib.pyplot as plt\n",
    "from abc import ABC, abstractmethod"
   ]
  },
  {
   "cell_type": "markdown",
   "id": "815d1def",
   "metadata": {},
   "source": [
    "### Download Datasets, Load And Convert"
   ]
  },
  {
   "cell_type": "code",
   "execution_count": 12,
   "id": "d4534413",
   "metadata": {},
   "outputs": [],
   "source": [
    "class dataset_preparations(ABC):\n",
    "    def __init__(self,url,save_directory,zip_name,csv_dataset,csv_label_names):\n",
    "        self.url=url\n",
    "        self.save_directory=save_directory\n",
    "        self.zip_name=zip_name\n",
    "        self.csv_dataset=csv_dataset\n",
    "        self.csv_label_names=csv_label_names\n",
    "#         self.zip_path\n",
    "#         self.extracted_path\n",
    "#         self.data\n",
    "#         self.labels\n",
    "#         self.label_names\n",
    "#         self.csv_dataset_path\n",
    "#         self.csv_names_path\n",
    "    def download_dataset(self):\n",
    "        # Create the save directory if it doesn't exist\n",
    "        if not os.path.exists(self.save_directory):\n",
    "            os.makedirs(self.save_directory)\n",
    "\n",
    "        # Download the dataset\n",
    "        http = urllib3.PoolManager()\n",
    "        response = http.request(method='GET', url=self.url)\n",
    "        if response.status == 200:\n",
    "            self.zip_path = os.path.join(self.save_directory, self.zip_name + '.tar.gz')\n",
    "            with open(self.zip_path, 'wb') as file:\n",
    "                file.write(response.data)\n",
    "            logging.debug(\"Dataset downloaded successfully.\")\n",
    "        else:\n",
    "            logging.debug(\"Failed to download the dataset.\")  \n",
    "            raise Exception(\"Failed to download the dataset.\")\n",
    "    \n",
    "    def extract_from_zip(self):\n",
    "        import tarfile\n",
    "        with tarfile.open(self.zip_path, 'r:gz') as tar:\n",
    "            tar.extractall(self.save_directory)\n",
    "            created_directory = tar.getnames()[0].split('/')[0]\n",
    "        self.extracted_path = os.path.join(self.save_directory, created_directory)\n",
    "\n",
    "    @abstractmethod\n",
    "    def load_dataset(self):\n",
    "        pass\n",
    "    \n",
    "    def convert_to_csv(self):\n",
    "        csv_data = np.concatenate((self.data, self.labels[:, np.newaxis]), axis=1)\n",
    "        csv_columns = ['pixel_{}'.format(i) for i in range(self.data.shape[1])] + ['label']\n",
    "\n",
    "        csv_df = pd.DataFrame(csv_data, columns=csv_columns)\n",
    "        csv_df_names = pd.DataFrame(np.array(self.label_names), columns=[\"coarse_label_names\"])\n",
    "        # Create the data folder if it doesn't exist\n",
    "        data_folder = os.path.join(self.save_directory, 'data')\n",
    "        os.makedirs(data_folder, exist_ok=True)\n",
    "\n",
    "        self.csv_dataset_path = os.path.join(data_folder, self.csv_dataset)\n",
    "        csv_df.to_csv(self.csv_dataset_path, index=False)\n",
    "\n",
    "        self.csv_names_path = os.path.join(data_folder, self.csv_label_names)\n",
    "        csv_df_names.to_csv(self.csv_names_path, index=False)\n",
    "        logging.debug(\"Dataset converted to CSV successfully.\")\n",
    "\n",
    "    def dataset_pipeline(self):\n",
    "        self.download_dataset()\n",
    "        self.extract_from_zip()\n",
    "        self.load_dataset()\n",
    "        self.convert_to_csv()"
   ]
  },
  {
   "cell_type": "code",
   "execution_count": 13,
   "id": "57696dc7",
   "metadata": {},
   "outputs": [],
   "source": [
    "class cifar10_preparations(dataset_preparations):\n",
    "    def __init__(self,url,save_directory,zip_name,csv_dataset,csv_label_names):\n",
    "        super().__init__(url,save_directory,zip_name,csv_dataset,csv_label_names)\n",
    "    \n",
    "    def load_dataset(self):           \n",
    "        # Load label names from metadata\n",
    "        label_names_file = os.path.join(self.extracted_path, 'batches.meta')\n",
    "        with open(label_names_file, 'rb') as file:\n",
    "            label_names_dict = pickle.load(file, encoding='bytes')\n",
    "            self.label_names = [label.decode('utf-8') for label in label_names_dict[b'label_names']]\n",
    "\n",
    "        self.data = []\n",
    "        self.labels = []\n",
    "\n",
    "        # Load data batches\n",
    "        for i in range(1, 6):\n",
    "            batch_file = os.path.join(self.extracted_path, 'data_batch_{}'.format(i))\n",
    "            with open(batch_file, 'rb') as file:\n",
    "                data_dict = pickle.load(file, encoding='latin1')\n",
    "            self.data.append(data_dict['data'])\n",
    "            self.labels.extend(data_dict['labels'])\n",
    "\n",
    "        # load test batch\n",
    "        batch_file = os.path.join(self.extracted_path, 'test_batch')\n",
    "        with open(batch_file, 'rb') as file:\n",
    "            data_dict = pickle.load(file, encoding='latin1')\n",
    "        self.data.append(data_dict['data'])\n",
    "        self.labels.extend(data_dict['labels'])\n",
    "\n",
    "        self.data = np.concatenate(self.data, axis=0)\n",
    "        self.labels = np.array(self.labels)\n",
    "\n",
    "        self.data = self.data.reshape(60000, 3, 32, 32).transpose(0,2,3,1).astype(\"uint8\")\n",
    "        self.labels = np.array(self.labels)\n",
    "\n",
    "        self.data = self.data.reshape(60000,-1)"
   ]
  },
  {
   "cell_type": "code",
   "execution_count": 14,
   "id": "c4a3afae",
   "metadata": {},
   "outputs": [],
   "source": [
    "class cifar100_preparations(dataset_preparations):\n",
    "    def __init__(self,url,save_directory,zip_name,csv_dataset,csv_label_names):\n",
    "        super().__init__(url,save_directory,zip_name,csv_dataset,csv_label_names)\n",
    "    \n",
    "    def load_dataset(self):\n",
    "        def unpickle(file):\n",
    "            with open(file, 'rb') as fo:\n",
    "                data_dict = pickle.load(fo, encoding='latin1')\n",
    "            return data_dict\n",
    "\n",
    "        file = os.path.join(self.extracted_path, 'train')\n",
    "        test_file = os.path.join(self.extracted_path, 'test')\n",
    "        meta_file = os.path.join(self.extracted_path, 'meta')\n",
    "\n",
    "        # Load training data\n",
    "        dict = unpickle(file)\n",
    "        self.data = dict['data'].reshape(50000, 3, 32, 32).transpose(0,2,3,1).astype(\"uint8\")\n",
    "        self.labels = np.array(dict['coarse_labels'])\n",
    "\n",
    "        # Load test data\n",
    "        test_dict = unpickle(test_file)\n",
    "        test_data = test_dict['data'].reshape(10000, 3, 32, 32).transpose(0,2,3,1).astype(\"uint8\")\n",
    "        test_labels = np.array(test_dict['coarse_labels'])\n",
    "\n",
    "        # Load meta data\n",
    "        meta_dict = unpickle(meta_file)\n",
    "        self.label_names = meta_dict['coarse_label_names']\n",
    "\n",
    "        self.data = np.concatenate((self.data, test_data),axis = 0)\n",
    "        self.labels = np.concatenate((self.labels, test_labels),axis = 0)\n",
    "\n",
    "        self.data = self.data.reshape(60000, -1)"
   ]
  },
  {
   "cell_type": "code",
   "execution_count": 15,
   "id": "9e9af7bb",
   "metadata": {},
   "outputs": [],
   "source": [
    "url_10 = 'https://www.cs.toronto.edu/~kriz/cifar-10-python.tar.gz'\n",
    "url_100 = 'https://www.cs.toronto.edu/~kriz/cifar-100-python.tar.gz'\n",
    "save_directory = \"C://Users//me//Desktop//Applied Bootkamp//project2\"\n",
    "zip_name_10 = 'CIFAR-10_dataset'  \n",
    "zip_name_100 = 'CIFAR-100_dataset'\n",
    "csv_dataset_10 = 'CIFAR-10_dataset.csv'  \n",
    "csv_dataset_100 = 'CIFAR-100_dataset.csv'\n",
    "csv_names_10 = 'CIFAR-10_names.csv'  \n",
    "csv_names_100 = 'CIFAR-100_names.csv'"
   ]
  },
  {
   "cell_type": "markdown",
   "id": "e7d0592a",
   "metadata": {},
   "source": [
    "### Test that conversion is correct"
   ]
  },
  {
   "cell_type": "code",
   "execution_count": 16,
   "id": "5d70d2ea",
   "metadata": {},
   "outputs": [],
   "source": [
    "def test_convert_and_load(csv_dataset_path:str):\n",
    "    import random\n",
    "    df_dataset = pd.read_csv(csv_dataset_path)\n",
    "    df_pixels = df_dataset[filter(lambda x: x.startswith('pixel') == True, df_dataset.columns)]\n",
    "    fig, ax = plt.subplots(figsize=(1,1))\n",
    "    ax.imshow(np.array(df_pixels.iloc[random.choice(range(df_pixels.shape[0]))]).reshape(32,32,3))"
   ]
  },
  {
   "cell_type": "code",
   "execution_count": 17,
   "id": "724b8ec4",
   "metadata": {},
   "outputs": [
    {
     "data": {
      "image/png": "[encoded data removed]",
      "text/plain": [
       "<Figure size 100x100 with 1 Axes>"
      ]
     },
     "metadata": {},
     "output_type": "display_data"
    }
   ],
   "source": [
    "cifar10 = cifar10_preparations(url_10,save_directory,zip_name_10,csv_dataset_10,csv_names_10)\n",
    "cifar10.dataset_pipeline()\n",
    "test_convert_and_load(cifar10.csv_dataset_path)"
   ]
  },
  {
   "cell_type": "code",
   "execution_count": 18,
   "id": "0215eaa9",
   "metadata": {},
   "outputs": [
    {
     "data": {
      "image/png": "[encoded data removed]",
      "text/plain": [
       "<Figure size 100x100 with 1 Axes>"
      ]
     },
     "metadata": {},
     "output_type": "display_data"
    }
   ],
   "source": [
    "cifar100 = cifar100_preparations(url_100,save_directory,zip_name_100,csv_dataset_100,csv_names_100)\n",
    "cifar100.dataset_pipeline()\n",
    "test_convert_and_load(cifar100.csv_dataset_path)"
   ]
  },
  {
   "cell_type": "code",
   "execution_count": 19,
   "id": "99298647",
   "metadata": {},
   "outputs": [
    {
     "data": {
      "image/png": "[encoded data removed]",
      "text/plain": [
       "<Figure size 100x100 with 1 Axes>"
      ]
     },
     "metadata": {},
     "output_type": "display_data"
    },
    {
     "data": {
      "image/png": "[encoded data removed]",
      "text/plain": [
       "<Figure size 100x100 with 1 Axes>"
      ]
     },
     "metadata": {},
     "output_type": "display_data"
    },
    {
     "data": {
      "image/png": "[encoded data removed]",
      "text/plain": [
       "<Figure size 100x100 with 1 Axes>"
      ]
     },
     "metadata": {},
     "output_type": "display_data"
    },
    {
     "data": {
      "image/png": "[encoded data removed]",
      "text/plain": [
       "<Figure size 100x100 with 1 Axes>"
      ]
     },
     "metadata": {},
     "output_type": "display_data"
    }
   ],
   "source": [
    "test_convert_and_load(cifar10.csv_dataset_path)\n",
    "test_convert_and_load(cifar10.csv_dataset_path)\n",
    "test_convert_and_load(cifar100.csv_dataset_path)\n",
    "test_convert_and_load(cifar100.csv_dataset_path)"
   ]
  },
  {
   "cell_type": "markdown",
   "id": "1c92cc34",
   "metadata": {},
   "source": [
    "### Add Super Classes From CIFAR-100 To CIFAR-10"
   ]
  },
  {
   "cell_type": "code",
   "execution_count": 20,
   "id": "2894fb19",
   "metadata": {},
   "outputs": [],
   "source": [
    "class combine_datasets():\n",
    "    def __init__(self,cifar10,cifar100,our_label_names,csv_combine_dataset,csv_our_label_names):\n",
    "        self.cifar10=cifar10\n",
    "        self.cifar100=cifar100\n",
    "        self.our_label_names=our_label_names\n",
    "        self.csv_combine_dataset=csv_combine_dataset\n",
    "        self.csv_our_label_names=csv_our_label_names\n",
    "#         self.csv_combine_dataset_path\n",
    "#         self.csv_our_label_names_path \n",
    "#         self.df_combine_dataset\n",
    "        \n",
    "    def super_class_from_local_CIFAR_100(self,label_name) -> pd.DataFrame:\n",
    "        # Read labels names\n",
    "        df_labels_names = pd.read_csv(self.cifar100.csv_names_path)\n",
    "\n",
    "        # Read CIFAR-100 dataset\n",
    "        df_cifar_100 = pd.read_csv(self.cifar100.csv_dataset_path)\n",
    "\n",
    "        label = df_labels_names.index[df_labels_names['coarse_label_names'] == label_name].tolist()[0]\n",
    "        df = pd.DataFrame(df_cifar_100.loc[df_cifar_100['label'] == label])\n",
    "        return df\n",
    "    \n",
    "    def add_super_classes_from_local_CIFAR_100(self,from_label:int) -> pd.DataFrame:\n",
    "        # Read CIFAR-10 Labels names\n",
    "        df_names = pd.read_csv(self.cifar10.csv_names_path)\n",
    "\n",
    "        dfd = None\n",
    "\n",
    "        for label_name, label_index in zip(self.our_label_names, range(from_label, from_label + len(self.our_label_names))):\n",
    "            df = self.super_class_from_local_CIFAR_100(label_name)\n",
    "            label = df.iloc[0]['label']\n",
    "            # replace CIFAR-100 label to a proper label \n",
    "            df['label'] = df['label'].replace(label, label_index)\n",
    "\n",
    "            ### store the new labels\n",
    "            df_new_label_name = pd.DataFrame([label_name], index=[label_index], columns=df_names.columns)\n",
    "            df_names = pd.concat([df_names, df_new_label_name])\n",
    "            ##\n",
    "\n",
    "            # initialize the dataframe or concatenate\n",
    "            if type(dfd) != pd.core.frame.DataFrame:\n",
    "                dfd = df\n",
    "            else:\n",
    "                dfd = pd.concat([dfd, df])\n",
    "        ##\n",
    "        data_folder = os.path.join(self.cifar10.save_directory, 'data')\n",
    "        self.csv_our_label_names_path = os.path.join(data_folder, self.csv_our_label_names)\n",
    "        df_names.to_csv(self.csv_our_label_names_path)\n",
    "        \n",
    "        # return a single dataframe object of all required labels images from CIFAR-100\n",
    "        return dfd\n",
    "    \n",
    "    def add_super_classes_from_local_CIFAR_100_to_CIFAR_10(self) -> pd.DataFrame:\n",
    "    \n",
    "        df_super_classes = self.add_super_classes_from_local_CIFAR_100(10)\n",
    "        df_cifar_10 = pd.read_csv(self.cifar10.csv_dataset_path)\n",
    "\n",
    "        # Add what is the origin of data\n",
    "        df_super_classes[\"source\"] = \"cifar-100\"\n",
    "        df_cifar_10[\"source\"] = \"cifar-10\"\n",
    "\n",
    "        # concatenate \n",
    "        df_dataset = pd.concat([df_cifar_10, df_super_classes])\n",
    "        # shuffle df\n",
    "        # df_cifar_10.sample(frac=1)\n",
    "\n",
    "        # Save the combined dataframe of CIFAR-10 with required labels images of CIFAR-100\n",
    "        data_folder = os.path.join(self.cifar10.save_directory, 'data')\n",
    "        self.csv_combine_dataset_path = os.path.join(data_folder, self.csv_combine_dataset)\n",
    "        df_dataset.to_csv(self.csv_combine_dataset_path)\n",
    "\n",
    "        self.df_combine_dataset = df_dataset\n"
   ]
  },
  {
   "cell_type": "code",
   "execution_count": 21,
   "id": "c1492d40",
   "metadata": {},
   "outputs": [],
   "source": [
    "our_label_names = ['people', 'flowers', 'trees']\n",
    "csv_combine_dataset = 'combine_dataset.csv'\n",
    "csv_our_label_names = 'dataset_names.csv'"
   ]
  },
  {
   "cell_type": "code",
   "execution_count": 22,
   "id": "1996cea5",
   "metadata": {},
   "outputs": [],
   "source": [
    "combine_dataset = combine_datasets(cifar10,cifar100,our_label_names,csv_combine_dataset,csv_our_label_names)"
   ]
  },
  {
   "cell_type": "code",
   "execution_count": 23,
   "id": "04be8275",
   "metadata": {},
   "outputs": [],
   "source": [
    "combine_dataset.add_super_classes_from_local_CIFAR_100_to_CIFAR_10()"
   ]
  },
  {
   "cell_type": "code",
   "execution_count": 25,
   "id": "d319c0e8",
   "metadata": {},
   "outputs": [
    {
     "data": {
      "text/html": [
       "<div>\n",
       "<style scoped>\n",
       "    .dataframe tbody tr th:only-of-type {\n",
       "        vertical-align: middle;\n",
       "    }\n",
       "\n",
       "    .dataframe tbody tr th {\n",
       "        vertical-align: top;\n",
       "    }\n",
       "\n",
       "    .dataframe thead th {\n",
       "        text-align: right;\n",
       "    }\n",
       "</style>\n",
       "<table border=\"1\" class=\"dataframe\">\n",
       "  <thead>\n",
       "    <tr style=\"text-align: right;\">\n",
       "      <th></th>\n",
       "      <th>pixel_0</th>\n",
       "      <th>pixel_1</th>\n",
       "      <th>pixel_2</th>\n",
       "      <th>pixel_3</th>\n",
       "      <th>pixel_4</th>\n",
       "      <th>pixel_5</th>\n",
       "      <th>pixel_6</th>\n",
       "      <th>pixel_7</th>\n",
       "      <th>pixel_8</th>\n",
       "      <th>pixel_9</th>\n",
       "      <th>...</th>\n",
       "      <th>pixel_3064</th>\n",
       "      <th>pixel_3065</th>\n",
       "      <th>pixel_3066</th>\n",
       "      <th>pixel_3067</th>\n",
       "      <th>pixel_3068</th>\n",
       "      <th>pixel_3069</th>\n",
       "      <th>pixel_3070</th>\n",
       "      <th>pixel_3071</th>\n",
       "      <th>label</th>\n",
       "      <th>source</th>\n",
       "    </tr>\n",
       "  </thead>\n",
       "  <tbody>\n",
       "    <tr>\n",
       "      <th>0</th>\n",
       "      <td>59</td>\n",
       "      <td>62</td>\n",
       "      <td>63</td>\n",
       "      <td>43</td>\n",
       "      <td>46</td>\n",
       "      <td>45</td>\n",
       "      <td>50</td>\n",
       "      <td>48</td>\n",
       "      <td>43</td>\n",
       "      <td>68</td>\n",
       "      <td>...</td>\n",
       "      <td>184</td>\n",
       "      <td>140</td>\n",
       "      <td>151</td>\n",
       "      <td>118</td>\n",
       "      <td>84</td>\n",
       "      <td>123</td>\n",
       "      <td>92</td>\n",
       "      <td>72</td>\n",
       "      <td>6</td>\n",
       "      <td>cifar-10</td>\n",
       "    </tr>\n",
       "    <tr>\n",
       "      <th>1</th>\n",
       "      <td>154</td>\n",
       "      <td>177</td>\n",
       "      <td>187</td>\n",
       "      <td>126</td>\n",
       "      <td>137</td>\n",
       "      <td>136</td>\n",
       "      <td>105</td>\n",
       "      <td>104</td>\n",
       "      <td>95</td>\n",
       "      <td>102</td>\n",
       "      <td>...</td>\n",
       "      <td>133</td>\n",
       "      <td>139</td>\n",
       "      <td>143</td>\n",
       "      <td>134</td>\n",
       "      <td>142</td>\n",
       "      <td>143</td>\n",
       "      <td>133</td>\n",
       "      <td>144</td>\n",
       "      <td>9</td>\n",
       "      <td>cifar-10</td>\n",
       "    </tr>\n",
       "    <tr>\n",
       "      <th>2</th>\n",
       "      <td>255</td>\n",
       "      <td>255</td>\n",
       "      <td>255</td>\n",
       "      <td>253</td>\n",
       "      <td>253</td>\n",
       "      <td>253</td>\n",
       "      <td>253</td>\n",
       "      <td>253</td>\n",
       "      <td>253</td>\n",
       "      <td>253</td>\n",
       "      <td>...</td>\n",
       "      <td>85</td>\n",
       "      <td>83</td>\n",
       "      <td>79</td>\n",
       "      <td>85</td>\n",
       "      <td>83</td>\n",
       "      <td>80</td>\n",
       "      <td>86</td>\n",
       "      <td>84</td>\n",
       "      <td>9</td>\n",
       "      <td>cifar-10</td>\n",
       "    </tr>\n",
       "    <tr>\n",
       "      <th>3</th>\n",
       "      <td>28</td>\n",
       "      <td>25</td>\n",
       "      <td>10</td>\n",
       "      <td>37</td>\n",
       "      <td>34</td>\n",
       "      <td>19</td>\n",
       "      <td>38</td>\n",
       "      <td>35</td>\n",
       "      <td>20</td>\n",
       "      <td>42</td>\n",
       "      <td>...</td>\n",
       "      <td>47</td>\n",
       "      <td>28</td>\n",
       "      <td>63</td>\n",
       "      <td>56</td>\n",
       "      <td>37</td>\n",
       "      <td>72</td>\n",
       "      <td>65</td>\n",
       "      <td>46</td>\n",
       "      <td>4</td>\n",
       "      <td>cifar-10</td>\n",
       "    </tr>\n",
       "  </tbody>\n",
       "</table>\n",
       "<p>4 rows × 3074 columns</p>\n",
       "</div>"
      ],
      "text/plain": [
       "   pixel_0  pixel_1  pixel_2  pixel_3  pixel_4  pixel_5  pixel_6  pixel_7  \\\n",
       "0       59       62       63       43       46       45       50       48   \n",
       "1      154      177      187      126      137      136      105      104   \n",
       "2      255      255      255      253      253      253      253      253   \n",
       "3       28       25       10       37       34       19       38       35   \n",
       "\n",
       "   pixel_8  pixel_9  ...  pixel_3064  pixel_3065  pixel_3066  pixel_3067  \\\n",
       "0       43       68  ...         184         140         151         118   \n",
       "1       95      102  ...         133         139         143         134   \n",
       "2      253      253  ...          85          83          79          85   \n",
       "3       20       42  ...          47          28          63          56   \n",
       "\n",
       "   pixel_3068  pixel_3069  pixel_3070  pixel_3071  label    source  \n",
       "0          84         123          92          72      6  cifar-10  \n",
       "1         142         143         133         144      9  cifar-10  \n",
       "2          83          80          86          84      9  cifar-10  \n",
       "3          37          72          65          46      4  cifar-10  \n",
       "\n",
       "[4 rows x 3074 columns]"
      ]
     },
     "execution_count": 25,
     "metadata": {},
     "output_type": "execute_result"
    }
   ],
   "source": [
    "combine_dataset.df_combine_dataset.head(4)"
   ]
  },
  {
   "cell_type": "markdown",
   "id": "9c8e182d",
   "metadata": {},
   "source": [
    "### Analyze Merged Dataset - how many images in each class after the merge of DB"
   ]
  },
  {
   "cell_type": "code",
   "execution_count": 26,
   "id": "07935f2d",
   "metadata": {},
   "outputs": [],
   "source": [
    "def show_images_ammont_per_class(df_dataset: pd.DataFrame):\n",
    "    df_dataset['label'].value_counts().plot.bar()"
   ]
  },
  {
   "cell_type": "code",
   "execution_count": 27,
   "id": "778a987e",
   "metadata": {},
   "outputs": [
    {
     "data": {
      "image/png": "[encoded data removed]",
      "text/plain": [
       "<Figure size 640x480 with 1 Axes>"
      ]
     },
     "metadata": {},
     "output_type": "display_data"
    }
   ],
   "source": [
    "show_images_ammont_per_class(combine_dataset.df_combine_dataset)"
   ]
  },
  {
   "cell_type": "markdown",
   "id": "1f9fdff9",
   "metadata": {},
   "source": [
    "### Test Images From CIFAR-100 InCombined Dataset"
   ]
  },
  {
   "cell_type": "code",
   "execution_count": 28,
   "id": "71d12067",
   "metadata": {},
   "outputs": [],
   "source": [
    "def test_cifar100_images(df_dataset: pd.DataFrame):\n",
    "    import random\n",
    "    ind = random.choice([i for i in range(60000, df_dataset.shape[0])])\n",
    "    pixels = df_dataset[filter(lambda x: x.startswith('pixel') == True, df_dataset.columns)]\n",
    "    im = pixels.iloc[ind]\n",
    "    fig, ax = plt.subplots(figsize=(1,1))\n",
    "    ax.imshow(np.array(im).reshape(32,32,3))"
   ]
  },
  {
   "cell_type": "code",
   "execution_count": 31,
   "id": "724dba34",
   "metadata": {},
   "outputs": [
    {
     "data": {
      "image/png": "[encoded data removed]",
      "text/plain": [
       "<Figure size 100x100 with 1 Axes>"
      ]
     },
     "metadata": {},
     "output_type": "display_data"
    },
    {
     "data": {
      "image/png": "[encoded data removed]",
      "text/plain": [
       "<Figure size 100x100 with 1 Axes>"
      ]
     },
     "metadata": {},
     "output_type": "display_data"
    }
   ],
   "source": [
    "test_cifar100_images(combine_dataset.df_combine_dataset)\n",
    "test_cifar100_images(combine_dataset.df_combine_dataset)"
   ]
  },
  {
   "cell_type": "markdown",
   "id": "9a6f5c63",
   "metadata": {},
   "source": [
    "### Clean the data"
   ]
  },
  {
   "cell_type": "code",
   "execution_count": 47,
   "id": "6c3241c1",
   "metadata": {},
   "outputs": [],
   "source": [
    "def verify_the_data_is_clean(df_dataset: pd.DataFrame):\n",
    "    print('info: ')\n",
    "    print(f'{df_dataset.info()}\\n')\n",
    "    print(f'isnull.sum:\\n{df_dataset.isnull().sum()}\\n')\n",
    "    print(f'isnull.sum.sum: {df_dataset.isnull().sum().sum()}\\n')\n",
    "    describe = df_dataset.describe()\n",
    "    print(f'describe:\\n{describe}\\n')\n",
    "    print(f'max from the max pixels: {max(describe.loc[\"max\"])}\\n')\n",
    "    print(f'max from the max pixels: {min(describe.loc[\"min\"])}\\n')\n",
    "    unique_label_numbers=df_dataset['label'].unique()\n",
    "    print(f'uniqe label numbers: {unique_label_numbers}\\n')"
   ]
  },
  {
   "cell_type": "code",
   "execution_count": 48,
   "id": "ed54a5ce",
   "metadata": {},
   "outputs": [
    {
     "name": "stdout",
     "output_type": "stream",
     "text": [
      "info: \n",
      "<class 'pandas.core.frame.DataFrame'>\n",
      "Int64Index: 69000 entries, 0 to 59984\n",
      "Columns: 3074 entries, pixel_0 to source\n",
      "dtypes: int64(3073), object(1)\n",
      "memory usage: 1.6+ GB\n",
      "None\n",
      "\n",
      "isnull.sum:\n",
      "pixel_0       0\n",
      "pixel_1       0\n",
      "pixel_2       0\n",
      "pixel_3       0\n",
      "pixel_4       0\n",
      "             ..\n",
      "pixel_3069    0\n",
      "pixel_3070    0\n",
      "pixel_3071    0\n",
      "label         0\n",
      "source        0\n",
      "Length: 3074, dtype: int64\n",
      "\n",
      "isnull.sum.sum: 0\n",
      "\n",
      "describe:\n",
      "            pixel_0       pixel_1       pixel_2       pixel_3       pixel_4  \\\n",
      "count  69000.000000  69000.000000  69000.000000  69000.000000  69000.000000   \n",
      "mean     130.577072    136.035580    132.784739    130.135913    135.544203   \n",
      "std       74.208271     73.623752     81.479101     73.288450     72.685150   \n",
      "min        0.000000      0.000000      0.000000      0.000000      0.000000   \n",
      "25%       70.000000     76.000000     59.000000     70.000000     77.000000   \n",
      "50%      127.000000    135.000000    128.000000    127.000000    135.000000   \n",
      "75%      190.000000    196.000000    209.000000    189.000000    195.000000   \n",
      "max      255.000000    255.000000    255.000000    255.000000    255.000000   \n",
      "\n",
      "            pixel_5       pixel_6       pixel_7       pixel_8       pixel_9  \\\n",
      "count  69000.000000  69000.000000  69000.000000  69000.000000  69000.000000   \n",
      "mean     132.222594    131.072014    136.355580    132.935725    131.669116   \n",
      "std       80.691218     73.092469     72.466346     80.555449     72.855833   \n",
      "min        0.000000      0.000000      0.000000      0.000000      0.000000   \n",
      "25%       60.000000     72.000000     78.000000     61.000000     72.000000   \n",
      "50%      128.000000    128.000000    136.000000    129.000000    129.000000   \n",
      "75%      208.000000    190.000000    195.000000    209.000000    190.000000   \n",
      "max      255.000000    255.000000    255.000000    255.000000    255.000000   \n",
      "\n",
      "       ...    pixel_3063    pixel_3064    pixel_3065    pixel_3066  \\\n",
      "count  ...  69000.000000  69000.000000  69000.000000  69000.000000   \n",
      "mean   ...    125.200870    123.880580    111.381899    124.878072   \n",
      "std    ...     65.055161     62.671527     66.090438     65.345024   \n",
      "min    ...      0.000000      0.000000      0.000000      0.000000   \n",
      "25%    ...     76.000000     78.000000     60.000000     76.000000   \n",
      "50%    ...    122.000000    121.000000    103.000000    122.000000   \n",
      "75%    ...    172.000000    166.000000    155.000000    171.000000   \n",
      "max    ...    255.000000    255.000000    255.000000    255.000000   \n",
      "\n",
      "         pixel_3067    pixel_3068    pixel_3069    pixel_3070    pixel_3071  \\\n",
      "count  69000.000000  69000.000000  69000.000000  69000.000000  69000.000000   \n",
      "mean     123.724435    111.436609    124.903493    123.928159    111.936058   \n",
      "std       62.981164     66.477317     66.046740     63.743822     67.265144   \n",
      "min        0.000000      0.000000      0.000000      0.000000      0.000000   \n",
      "25%       77.000000     59.000000     75.000000     77.000000     59.000000   \n",
      "50%      121.000000    103.000000    122.000000    121.000000    103.000000   \n",
      "75%      166.000000    156.000000    172.000000    167.000000    157.000000   \n",
      "max      255.000000    255.000000    255.000000    255.000000    255.000000   \n",
      "\n",
      "              label  \n",
      "count  69000.000000  \n",
      "mean       5.347826  \n",
      "std        3.471758  \n",
      "min        0.000000  \n",
      "25%        2.000000  \n",
      "50%        5.000000  \n",
      "75%        8.000000  \n",
      "max       12.000000  \n",
      "\n",
      "[8 rows x 3073 columns]\n",
      "\n",
      "max from the max pixels: 255.0\n",
      "\n",
      "max from the max pixels: 0.0\n",
      "\n",
      "uniqe label numbers: [ 6  9  4  1  2  7  8  3  5  0 10 11 12]\n",
      "\n"
     ]
    }
   ],
   "source": [
    "verify_the_data_is_clean(combine_dataset.df_combine_dataset)"
   ]
  },
  {
   "cell_type": "code",
   "execution_count": null,
   "id": "45dc7d79",
   "metadata": {},
   "outputs": [],
   "source": []
  }
 ],
 "metadata": {
  "kernelspec": {
   "display_name": "Python 3 (ipykernel)",
   "language": "python",
   "name": "python3"
  },
  "language_info": {
   "codemirror_mode": {
    "name": "ipython",
    "version": 3
   },
   "file_extension": ".py",
   "mimetype": "text/x-python",
   "name": "python",
   "nbconvert_exporter": "python",
   "pygments_lexer": "ipython3",
   "version": "3.10.9"
  }
 },
 "nbformat": 4,
 "nbformat_minor": 5
}
