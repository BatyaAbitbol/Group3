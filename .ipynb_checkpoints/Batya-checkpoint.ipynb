{
 "cells": [
  {
   "cell_type": "code",
   "execution_count": 1,
   "id": "6aafe4b0",
   "metadata": {},
   "outputs": [],
   "source": [
    "import pandas as pd\n",
    "import matplotlib.pyplot as plt\n",
    "import numpy as np"
   ]
  },
  {
   "cell_type": "code",
   "execution_count": 37,
   "id": "55e49752",
   "metadata": {},
   "outputs": [],
   "source": [
    "path = './pictures/before_rotate/ship_3.csv'\n",
    "df_img = pd.read_csv(path)\n",
    "label = df_img['label']\n",
    "pixels = [col for col in df_img.columns if col.startswith('pixel')] \n",
    "df_img = df_img[pixels]"
   ]
  },
  {
   "cell_type": "code",
   "execution_count": 38,
   "id": "3fdc3acd",
   "metadata": {},
   "outputs": [
    {
     "data": {
      "text/html": [
       "<div>\n",
       "<style scoped>\n",
       "    .dataframe tbody tr th:only-of-type {\n",
       "        vertical-align: middle;\n",
       "    }\n",
       "\n",
       "    .dataframe tbody tr th {\n",
       "        vertical-align: top;\n",
       "    }\n",
       "\n",
       "    .dataframe thead th {\n",
       "        text-align: right;\n",
       "    }\n",
       "</style>\n",
       "<table border=\"1\" class=\"dataframe\">\n",
       "  <thead>\n",
       "    <tr style=\"text-align: right;\">\n",
       "      <th></th>\n",
       "      <th>pixel_0</th>\n",
       "      <th>pixel_1</th>\n",
       "      <th>pixel_2</th>\n",
       "      <th>pixel_3</th>\n",
       "      <th>pixel_4</th>\n",
       "      <th>pixel_5</th>\n",
       "      <th>pixel_6</th>\n",
       "      <th>pixel_7</th>\n",
       "      <th>pixel_8</th>\n",
       "      <th>pixel_9</th>\n",
       "      <th>...</th>\n",
       "      <th>pixel_3062</th>\n",
       "      <th>pixel_3063</th>\n",
       "      <th>pixel_3064</th>\n",
       "      <th>pixel_3065</th>\n",
       "      <th>pixel_3066</th>\n",
       "      <th>pixel_3067</th>\n",
       "      <th>pixel_3068</th>\n",
       "      <th>pixel_3069</th>\n",
       "      <th>pixel_3070</th>\n",
       "      <th>pixel_3071</th>\n",
       "    </tr>\n",
       "  </thead>\n",
       "  <tbody>\n",
       "    <tr>\n",
       "      <th>0</th>\n",
       "      <td>108</td>\n",
       "      <td>45</td>\n",
       "      <td>24</td>\n",
       "      <td>108</td>\n",
       "      <td>45</td>\n",
       "      <td>25</td>\n",
       "      <td>108</td>\n",
       "      <td>45</td>\n",
       "      <td>24</td>\n",
       "      <td>108</td>\n",
       "      <td>...</td>\n",
       "      <td>108</td>\n",
       "      <td>181</td>\n",
       "      <td>153</td>\n",
       "      <td>109</td>\n",
       "      <td>174</td>\n",
       "      <td>148</td>\n",
       "      <td>109</td>\n",
       "      <td>183</td>\n",
       "      <td>157</td>\n",
       "      <td>123</td>\n",
       "    </tr>\n",
       "  </tbody>\n",
       "</table>\n",
       "<p>1 rows × 3072 columns</p>\n",
       "</div>"
      ],
      "text/plain": [
       "   pixel_0  pixel_1  pixel_2  pixel_3  pixel_4  pixel_5  pixel_6  pixel_7  \\\n",
       "0      108       45       24      108       45       25      108       45   \n",
       "\n",
       "   pixel_8  pixel_9  ...  pixel_3062  pixel_3063  pixel_3064  pixel_3065  \\\n",
       "0       24      108  ...         108         181         153         109   \n",
       "\n",
       "   pixel_3066  pixel_3067  pixel_3068  pixel_3069  pixel_3070  pixel_3071  \n",
       "0         174         148         109         183         157         123  \n",
       "\n",
       "[1 rows x 3072 columns]"
      ]
     },
     "execution_count": 38,
     "metadata": {},
     "output_type": "execute_result"
    }
   ],
   "source": [
    "df_img"
   ]
  },
  {
   "cell_type": "code",
   "execution_count": 39,
   "id": "d3def3e6",
   "metadata": {},
   "outputs": [
    {
     "data": {
      "text/plain": [
       "(1, 3072)"
      ]
     },
     "execution_count": 39,
     "metadata": {},
     "output_type": "execute_result"
    }
   ],
   "source": [
    "df_img.shape"
   ]
  },
  {
   "cell_type": "code",
   "execution_count": 40,
   "id": "bd9fc0dd",
   "metadata": {},
   "outputs": [
    {
     "name": "stdout",
     "output_type": "stream",
     "text": [
      "<class 'pandas.core.frame.DataFrame'>\n",
      "RangeIndex: 1 entries, 0 to 0\n",
      "Columns: 3072 entries, pixel_0 to pixel_3071\n",
      "dtypes: int64(3072)\n",
      "memory usage: 24.1 KB\n"
     ]
    }
   ],
   "source": [
    "df_img.info()"
   ]
  },
  {
   "cell_type": "code",
   "execution_count": 41,
   "id": "3d9ce820",
   "metadata": {},
   "outputs": [],
   "source": [
    "img_array = np.array(df_img.iloc[0])\n",
    "img_array = img_array.astype('uint8')"
   ]
  },
  {
   "cell_type": "code",
   "execution_count": 42,
   "id": "4897bca8",
   "metadata": {},
   "outputs": [],
   "source": [
    "import cv2\n",
    "import math\n",
    "import numpy as np\n",
    "\n",
    "def rotate_array_with_padding(input_array, angle):\n",
    "    # Load the input array (assuming it's a NumPy array representing an image)\n",
    "    image = input_array.copy()\n",
    "    print(\"image \", image.shape)\n",
    "    # Calculate the dimensions of the rotated image\n",
    "    height, width = image.shape[:2]\n",
    "    radians = math.radians(angle)\n",
    "    new_width = int(abs(width * math.cos(radians)) + abs(height * math.sin(radians)))\n",
    "    new_height = int(abs(width * math.sin(radians)) + abs(height * math.cos(radians)))\n",
    "\n",
    "    # Calculate the center of the original image\n",
    "    center_x = width // 2\n",
    "    center_y = height // 2\n",
    "\n",
    "    # Create an empty canvas with the dimensions of the rotated image\n",
    "    canvas = np.zeros((new_height, new_width, image.shape[2]), dtype=np.uint8)\n",
    "\n",
    "    # Calculate the coordinates for the rotated image\n",
    "    x = (new_width - width) // 2\n",
    "    y = (new_height - height) // 2\n",
    "\n",
    "    # Paste the original image onto the canvas\n",
    "    canvas[y:y+height, x:x+width] = image\n",
    "\n",
    "    # Perform the rotation with padding\n",
    "    M = cv2.getRotationMatrix2D((new_width//2, new_height//2), angle, 1.0)\n",
    "    rotated_array = cv2.warpAffine(canvas, M, (new_width, new_height))\n",
    "\n",
    "    # Return the rotated image (as a NumPy array)\n",
    "    return rotated_array\n"
   ]
  },
  {
   "cell_type": "code",
   "execution_count": 43,
   "id": "678a94f9",
   "metadata": {},
   "outputs": [
    {
     "name": "stdout",
     "output_type": "stream",
     "text": [
      "image  (32, 32, 3)\n"
     ]
    }
   ],
   "source": [
    "angle = 30\n",
    "rotatesd_df=rotate_array_with_padding(img_array.reshape(32,32,3), angle)"
   ]
  },
  {
   "cell_type": "code",
   "execution_count": 44,
   "id": "635fb799",
   "metadata": {},
   "outputs": [
    {
     "data": {
      "text/plain": [
       "(43, 43, 3)"
      ]
     },
     "execution_count": 44,
     "metadata": {},
     "output_type": "execute_result"
    }
   ],
   "source": [
    "rotatesd_df.shape"
   ]
  },
  {
   "cell_type": "code",
   "execution_count": 45,
   "id": "75e1fcde",
   "metadata": {},
   "outputs": [],
   "source": [
    "def visualize(original, augmented):\n",
    "    original = original.astype(np.uint8)\n",
    "    augmented = augmented.astype(np.uint8)\n",
    "    rgb1 = cv2.cvtColor(original, cv2.COLOR_BGR2RGB)\n",
    "    rgb2 = cv2.cvtColor(augmented, cv2.COLOR_BGR2RGB)\n",
    "    fig = plt.figure()\n",
    "    plt.subplot(1, 2, 1)\n",
    "    plt.title('Original image')\n",
    "    plt.imshow(rgb1)\n",
    "    plt.axis(\"off\")\n",
    "\n",
    "    plt.subplot(1, 2, 2)\n",
    "    plt.title('Augmented image')\n",
    "    plt.imshow(rgb2)\n",
    "    plt.axis(\"off\")\n",
    "    "
   ]
  },
  {
   "cell_type": "code",
   "execution_count": 46,
   "id": "2291e138",
   "metadata": {},
   "outputs": [
    {
     "data": {
      "image/png": "[encoded data removed]",
      "text/plain": [
       "<Figure size 432x288 with 2 Axes>"
      ]
     },
     "metadata": {
      "needs_background": "light"
     },
     "output_type": "display_data"
    }
   ],
   "source": [
    "visualize(img_array.reshape(32,32,3), rotatesd_df)"
   ]
  },
  {
   "cell_type": "code",
   "execution_count": 47,
   "id": "d270c143",
   "metadata": {},
   "outputs": [],
   "source": [
    "import cv2\n",
    "import numpy as np\n",
    "import math\n",
    "import matplotlib.pyplot as plt\n",
    "\n",
    "def data_augmentation1(image_array):\n",
    "    def visualize(original, augmented):\n",
    "        rgb1 = cv2.cvtColor(original, cv2.COLOR_BGR2RGB)\n",
    "        rgb2 = cv2.cvtColor(augmented, cv2.COLOR_BGR2RGB)\n",
    "        fig = plt.figure()\n",
    "        plt.subplot(1, 2, 1)\n",
    "        plt.title('Original image')\n",
    "        plt.imshow(rgb1)\n",
    "        print(\"origion\", original.shape)\n",
    "        plt.axis(\"off\")\n",
    "\n",
    "        plt.subplot(1, 2, 2)\n",
    "        plt.title('Augmented image')\n",
    "        plt.imshow(rgb2)\n",
    "        print(\"augmented\", augmented.shape)\n",
    "        plt.axis(\"off\")\n",
    "\n",
    "    image = image_array.copy()\n",
    "    print(\"image \", image.shape)\n",
    "\n",
    "    height, width = image.shape[:2]\n",
    "    diagonal = np.sqrt(height ** 2 + width ** 2)\n",
    "    padding = int((diagonal - min(height, width)) / 2)\n",
    "\n",
    "    # Add padding to the image using BORDER_REFLECT or BORDER_REPLICATE mode\n",
    "    padded_image = cv2.copyMakeBorder(image, padding, padding, padding, padding, cv2.BORDER_REFLECT)\n",
    "\n",
    "    # Calculate the center of the padded image\n",
    "    center_x = width // 2 + padding\n",
    "    center_y = height // 2 + padding\n",
    "\n",
    "    # Define the rotation angle (e.g., 30 degrees)\n",
    "    angle = 30\n",
    "\n",
    "    # Calculate the rotation matrix\n",
    "    rotation_matrix = cv2.getRotationMatrix2D((center_x, center_y), angle, 1.0)\n",
    "\n",
    "    # Apply the rotation to the padded image\n",
    "    rotated = cv2.warpAffine(padded_image, rotation_matrix, (padded_image.shape[1], padded_image.shape[0]), flags=cv2.INTER_LINEAR)\n",
    "\n",
    "    # Crop the rotated image to remove the padding\n",
    "    rotated_cropped = rotated[padding:-padding, padding:-padding]\n",
    "\n",
    "    visualize(image, rotated_cropped)\n",
    "\n",
    "    plt.show()\n",
    "\n",
    "    return rotated_cropped\n"
   ]
  },
  {
   "cell_type": "code",
   "execution_count": 48,
   "id": "f514eb55",
   "metadata": {},
   "outputs": [
    {
     "name": "stdout",
     "output_type": "stream",
     "text": [
      "image  (32, 32, 3)\n",
      "origion (32, 32, 3)\n",
      "augmented (32, 32, 3)\n"
     ]
    },
    {
     "data": {
      "image/png": "[encoded data removed]",
      "text/plain": [
       "<Figure size 432x288 with 2 Axes>"
      ]
     },
     "metadata": {
      "needs_background": "light"
     },
     "output_type": "display_data"
    }
   ],
   "source": [
    "r=data_augmentation1(img_array.reshape(32,32,3))"
   ]
  },
  {
   "cell_type": "code",
   "execution_count": 49,
   "id": "568978a1",
   "metadata": {},
   "outputs": [
    {
     "data": {
      "image/png": "[encoded data removed]",
      "text/plain": [
       "<Figure size 432x288 with 2 Axes>"
      ]
     },
     "metadata": {
      "needs_background": "light"
     },
     "output_type": "display_data"
    }
   ],
   "source": [
    "visualize(img_array.reshape(32,32,3), r)"
   ]
  },
  {
   "cell_type": "markdown",
   "id": "21b9b681",
   "metadata": {},
   "source": [
    "שרהלה, אנחנו יודעות לעבוד ביחד,"
   ]
  },
  {
   "cell_type": "markdown",
   "id": "12f91ae8",
   "metadata": {},
   "source": [
    "אבל יותר חשוב הוא שלמדנו גם לדבר יחד. והלוואי שגם נכיר ❤"
   ]
  },
  {
   "cell_type": "markdown",
   "id": "346b28f2",
   "metadata": {},
   "source": [
    "בתיה כף לעבוד איתך!\n",
    "בכל המובנים!"
   ]
  },
  {
   "cell_type": "markdown",
   "id": "27521f53",
   "metadata": {},
   "source": [
    "את באמת מיוחדת!\n",
    "תודה שאני איתך בקבוצה!"
   ]
  },
  {
   "cell_type": "markdown",
   "id": "8103b44d",
   "metadata": {},
   "source": [
    "### 1:03 Am , write neat code:"
   ]
  },
  {
   "cell_type": "code",
   "execution_count": 54,
   "id": "95f978b3",
   "metadata": {},
   "outputs": [],
   "source": [
    "def rotate_image(image_array:np.array) -> np.array:\n",
    "\n",
    "    image = image_array.copy()\n",
    "\n",
    "    height, width = image.shape[:2]\n",
    "    diagonal = np.sqrt(height ** 2 + width ** 2)\n",
    "    padding = int((diagonal - min(height, width)) / 2)\n",
    "\n",
    "    # Add padding to the image using BORDER_REFLECT or BORDER_REPLICATE mode\n",
    "    padded_image = cv2.copyMakeBorder(image, padding, padding, padding, padding, cv2.BORDER_REFLECT)\n",
    "\n",
    "    # Calculate the center of the padded image\n",
    "    center_x = width // 2 + padding\n",
    "    center_y = height // 2 + padding\n",
    "\n",
    "    # Define the rotation angle (e.g., 30 degrees)\n",
    "    angle = 30\n",
    "\n",
    "    # Calculate the rotation matrix\n",
    "    rotation_matrix = cv2.getRotationMatrix2D((center_x, center_y), angle, 1.0)\n",
    "\n",
    "    # Apply the rotation to the padded image\n",
    "    rotated = cv2.warpAffine(padded_image, rotation_matrix, (padded_image.shape[1], padded_image.shape[0]), flags=cv2.INTER_LINEAR)\n",
    "\n",
    "    # Crop the rotated image to remove the padding\n",
    "    rotated_cropped = rotated[padding:-padding, padding:-padding]\n",
    "\n",
    "    return rotated_cropped\n"
   ]
  },
  {
   "cell_type": "code",
   "execution_count": 57,
   "id": "bfa51ea7",
   "metadata": {},
   "outputs": [],
   "source": [
    "img_array = img_array.reshape(32,32,3)\n",
    "rotated_img = rotate_image(img_array)"
   ]
  },
  {
   "cell_type": "code",
   "execution_count": 58,
   "id": "65d48949",
   "metadata": {},
   "outputs": [
    {
     "data": {
      "image/png": "[encoded data removed]",
      "text/plain": [
       "<Figure size 432x288 with 2 Axes>"
      ]
     },
     "metadata": {
      "needs_background": "light"
     },
     "output_type": "display_data"
    }
   ],
   "source": [
    "visualize(img_array, rotated_img)"
   ]
  },
  {
   "cell_type": "code",
   "execution_count": null,
   "id": "4ef2e399",
   "metadata": {},
   "outputs": [],
   "source": []
  }
 ],
 "metadata": {
  "kernelspec": {
   "display_name": "Python 3 (ipykernel)",
   "language": "python",
   "name": "python3"
  },
  "language_info": {
   "codemirror_mode": {
    "name": "ipython",
    "version": 3
   },
   "file_extension": ".py",
   "mimetype": "text/x-python",
   "name": "python",
   "nbconvert_exporter": "python",
   "pygments_lexer": "ipython3",
   "version": "3.10.9"
  }
 },
 "nbformat": 4,
 "nbformat_minor": 5
}
