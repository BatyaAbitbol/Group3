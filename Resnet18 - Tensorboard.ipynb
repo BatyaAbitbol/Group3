{
 "cells": [
  {
   "cell_type": "markdown",
   "id": "4d89bcfe",
   "metadata": {},
   "source": [
    "### Resnet18"
   ]
  },
  {
   "cell_type": "code",
   "execution_count": null,
   "id": "f02a89fc",
   "metadata": {},
   "outputs": [],
   "source": [
    "import pandas as pd\n",
    "import torch\n",
    "from torch.utils.data import Dataset, DataLoader\n",
    "from torchvision.transforms import transforms\n",
    "\n",
    "# Load the data from pandas DataFrame or CSV\n",
    "data = pd.read_csv('path/to/your/csv_file.csv')\n",
    "\n",
    "# Extract the pixel data and labels\n",
    "pixel_columns = [f'pixel_{i}' for i in range(3072)]\n",
    "pixels = data[pixel_columns].values\n",
    "labels = data['label'].values\n",
    "\n",
    "# Reshape the pixel data to match the image dimensions (3, 32, 32)\n",
    "pixels = pixels.reshape(-1, 3, 32, 32)\n",
    "\n",
    "# Convert pixel data to float32 and normalize to the range [0, 1]\n",
    "pixels = pixels.astype(np.float32) / 255.0\n",
    "\n",
    "# Convert NumPy arrays to PyTorch tensors\n",
    "pixel_tensors = torch.tensor(pixels)\n",
    "label_tensors = torch.tensor(labels)"
   ]
  },
  {
   "cell_type": "code",
   "execution_count": null,
   "id": "fdcc1dea",
   "metadata": {},
   "outputs": [],
   "source": [
    "normalize_transform = transforms.Normalize(mean=[0.485, 0.456, 0.406], std=[0.229, 0.224, 0.225])\n",
    "pixel_tensors = normalize_transform(pixel_tensors)"
   ]
  },
  {
   "cell_type": "code",
   "execution_count": null,
   "id": "9f097bca",
   "metadata": {},
   "outputs": [],
   "source": [
    "from torch.utils.data import Dataset, DataLoader\n",
    "\n",
    "class CustomDataset(Dataset):\n",
    "    def __init__(self, data, labels):\n",
    "        self.data = data\n",
    "        self.labels = labels\n",
    "\n",
    "    def __len__(self):\n",
    "        return len(self.data)\n",
    "\n",
    "    def __getitem__(self, idx):\n",
    "        image = self.data[idx]\n",
    "        label = self.labels[idx]\n",
    "        return image, label\n",
    "\n",
    "# Create a CustomDataset instance\n",
    "dataset = CustomDataset(pixel_tensors, label_tensors)\n",
    "\n",
    "# Create a DataLoader\n",
    "batch_size = 128\n",
    "train_loader = DataLoader(dataset, batch_size=batch_size, shuffle=True)"
   ]
  },
  {
   "cell_type": "code",
   "execution_count": null,
   "id": "c87e7a9b",
   "metadata": {},
   "outputs": [],
   "source": [
    "import torchvision.models as models\n",
    "import torch.nn as nn\n",
    "from tensorboardX import SummaryWriter\n",
    "\n",
    "# Define the ResNet18 model\n",
    "model = models.resnet18(pretrained=False)\n",
    "num_classes = 10  # Assuming you have 10 classes in your dataset\n",
    "model.fc = nn.Linear(512, num_classes)  # Replace the fully connected layer for the new number of classes\n",
    "\n",
    "# Define loss function and optimizer\n",
    "criterion = nn.CrossEntropyLoss()\n",
    "optimizer = torch.optim.SGD(model.parameters(), lr=0.001, momentum=0.9)\n",
    "\n",
    "# Set up TensorBoard writer\n",
    "writer = SummaryWriter('logs')"
   ]
  },
  {
   "cell_type": "code",
   "execution_count": null,
   "id": "9193b33c",
   "metadata": {},
   "outputs": [],
   "source": [
    "num_epochs = 10  # You can adjust this as needed\n",
    "\n",
    "for epoch in range(num_epochs):\n",
    "    model.train()  # Set the model to training mode\n",
    "    total_loss = 0.0\n",
    "\n",
    "    for i, (images, labels) in enumerate(train_loader):\n",
    "        # Forward pass\n",
    "        outputs = model(images)\n",
    "        loss = criterion(outputs, labels)\n",
    "\n",
    "        # Backward and optimize\n",
    "        optimizer.zero_grad()\n",
    "        loss.backward()\n",
    "        optimizer.step()\n",
    "\n",
    "        total_loss += loss.item()\n",
    "\n",
    "    # Average training loss for the epoch\n",
    "    avg_loss = total_loss / len(train_loader)\n",
    "\n",
    "    # Write training loss to TensorBoard\n",
    "    writer.add_scalar('Loss/train', avg_loss, epoch)\n",
    "\n",
    "# Close the TensorBoard writer\n",
    "writer.close()"
   ]
  },
  {
   "cell_type": "code",
   "execution_count": null,
   "id": "4edaf0f9",
   "metadata": {},
   "outputs": [],
   "source": [
    "tensorboard --logdir=logs"
   ]
  },
  {
   "cell_type": "code",
   "execution_count": null,
   "id": "24d599bc",
   "metadata": {},
   "outputs": [],
   "source": []
  },
  {
   "cell_type": "code",
   "execution_count": 1,
   "id": "a26ee616",
   "metadata": {},
   "outputs": [
    {
     "name": "stdout",
     "output_type": "stream",
     "text": [
      "   calories  duration\n",
      "0       420        50\n",
      "1       380        40\n",
      "2       390        45\n"
     ]
    }
   ],
   "source": [
    "import pandas as pd\n",
    "\n",
    "data = {\n",
    "  \"calories\": [420, 380, 390],\n",
    "  \"duration\": [50, 40, 45]\n",
    "}\n",
    "\n",
    "#load data into a DataFrame object:\n",
    "df = pd.DataFrame(data)\n",
    "\n",
    "print(df) "
   ]
  },
  {
   "cell_type": "code",
   "execution_count": 3,
   "id": "96722858",
   "metadata": {},
   "outputs": [
    {
     "data": {
      "text/plain": [
       "0    50\n",
       "1    40\n",
       "2    45\n",
       "Name: duration, dtype: int64"
      ]
     },
     "execution_count": 3,
     "metadata": {},
     "output_type": "execute_result"
    }
   ],
   "source": [
    "df[\"duration\"]"
   ]
  },
  {
   "cell_type": "code",
   "execution_count": 4,
   "id": "f04753f4",
   "metadata": {},
   "outputs": [
    {
     "data": {
      "text/plain": [
       "array([50, 40, 45], dtype=int64)"
      ]
     },
     "execution_count": 4,
     "metadata": {},
     "output_type": "execute_result"
    }
   ],
   "source": [
    "df[\"duration\"].values"
   ]
  },
  {
   "cell_type": "code",
   "execution_count": 5,
   "id": "9770d120",
   "metadata": {},
   "outputs": [
    {
     "data": {
      "text/plain": [
       "numpy.ndarray"
      ]
     },
     "execution_count": 5,
     "metadata": {},
     "output_type": "execute_result"
    }
   ],
   "source": [
    "type(df[\"duration\"].values)"
   ]
  },
  {
   "cell_type": "code",
   "execution_count": 6,
   "id": "67f676a0",
   "metadata": {},
   "outputs": [
    {
     "data": {
      "text/plain": [
       "pandas.core.series.Series"
      ]
     },
     "execution_count": 6,
     "metadata": {},
     "output_type": "execute_result"
    }
   ],
   "source": [
    "type(df[\"duration\"])"
   ]
  },
  {
   "cell_type": "code",
   "execution_count": null,
   "id": "634bfb9f",
   "metadata": {},
   "outputs": [],
   "source": []
  }
 ],
 "metadata": {
  "kernelspec": {
   "display_name": "Python 3 (ipykernel)",
   "language": "python",
   "name": "python3"
  },
  "language_info": {
   "codemirror_mode": {
    "name": "ipython",
    "version": 3
   },
   "file_extension": ".py",
   "mimetype": "text/x-python",
   "name": "python",
   "nbconvert_exporter": "python",
   "pygments_lexer": "ipython3",
   "version": "3.10.9"
  }
 },
 "nbformat": 4,
 "nbformat_minor": 5
}
