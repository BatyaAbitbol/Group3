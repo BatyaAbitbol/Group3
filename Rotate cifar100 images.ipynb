{
 "cells": [
  {
   "cell_type": "markdown",
   "id": "dc04cad9",
   "metadata": {},
   "source": [
    "### Rotate cifar100 images"
   ]
  },
  {
   "cell_type": "code",
   "execution_count": 1,
   "id": "35b60815",
   "metadata": {},
   "outputs": [],
   "source": [
    "import pandas as pd"
   ]
  },
  {
   "cell_type": "code",
   "execution_count": 3,
   "id": "7db6f82e",
   "metadata": {},
   "outputs": [],
   "source": [
    "def rotate_cifar100_images(cifar100_csv_path:str):\n",
    "    df_cifar100=pd.read_csv(cifar100_csv_path)\n",
    "    print(df_cifar100)\n",
    "#     for img_index in range(df_cifar100.shape):"
   ]
  },
  {
   "cell_type": "code",
   "execution_count": 4,
   "id": "135f472e",
   "metadata": {},
   "outputs": [],
   "source": [
    "cifar100_csv_path = \"C://Users//me//Desktop//Applied Bootkamp//project2//data//CIFAR-100_dataset.csv\""
   ]
  },
  {
   "cell_type": "code",
   "execution_count": null,
   "id": "245d18a8",
   "metadata": {},
   "outputs": [],
   "source": [
    "rotate_cifar100_images(cifar100_csv_path)"
   ]
  },
  {
   "cell_type": "code",
   "execution_count": 5,
   "id": "4df0a170",
   "metadata": {},
   "outputs": [],
   "source": [
    "df_cifar100=pd.read_csv(cifar100_csv_path)"
   ]
  },
  {
   "cell_type": "code",
   "execution_count": 7,
   "id": "4547fbba",
   "metadata": {},
   "outputs": [
    {
     "name": "stdout",
     "output_type": "stream",
     "text": [
      "(60000, 3073)\n"
     ]
    }
   ],
   "source": [
    "print(df_cifar100.shape)"
   ]
  },
  {
   "cell_type": "code",
   "execution_count": null,
   "id": "00267422",
   "metadata": {},
   "outputs": [],
   "source": [
    "pixels=[p]"
   ]
  },
  {
   "cell_type": "code",
   "execution_count": null,
   "id": "ead8bd45",
   "metadata": {},
   "outputs": [],
   "source": [
    "print(df_cifar100[pixels].shape)"
   ]
  }
 ],
 "metadata": {
  "kernelspec": {
   "display_name": "Python 3 (ipykernel)",
   "language": "python",
   "name": "python3"
  },
  "language_info": {
   "codemirror_mode": {
    "name": "ipython",
    "version": 3
   },
   "file_extension": ".py",
   "mimetype": "text/x-python",
   "name": "python",
   "nbconvert_exporter": "python",
   "pygments_lexer": "ipython3",
   "version": "3.10.9"
  }
 },
 "nbformat": 4,
 "nbformat_minor": 5
}
